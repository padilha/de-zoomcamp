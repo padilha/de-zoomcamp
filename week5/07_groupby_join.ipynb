{
 "cells": [
  {
   "cell_type": "code",
   "execution_count": 1,
   "id": "68358c76",
   "metadata": {},
   "outputs": [
    {
     "name": "stderr",
     "output_type": "stream",
     "text": [
      "23/03/11 13:08:38 WARN Utils: Your hostname, padilha-A70-HYB resolves to a loopback address: 127.0.1.1; using 192.168.15.5 instead (on interface wlo1)\n",
      "23/03/11 13:08:38 WARN Utils: Set SPARK_LOCAL_IP if you need to bind to another address\n",
      "WARNING: An illegal reflective access operation has occurred\n",
      "WARNING: Illegal reflective access by org.apache.spark.unsafe.Platform (file:/home/padilha/miniconda3/envs/de-zoomcamp-week5/lib/python3.9/site-packages/pyspark/jars/spark-unsafe_2.12-3.2.1.jar) to constructor java.nio.DirectByteBuffer(long,int)\n",
      "WARNING: Please consider reporting this to the maintainers of org.apache.spark.unsafe.Platform\n",
      "WARNING: Use --illegal-access=warn to enable warnings of further illegal reflective access operations\n",
      "WARNING: All illegal access operations will be denied in a future release\n",
      "Using Spark's default log4j profile: org/apache/spark/log4j-defaults.properties\n",
      "Setting default log level to \"WARN\".\n",
      "To adjust logging level use sc.setLogLevel(newLevel). For SparkR, use setLogLevel(newLevel).\n",
      "23/03/11 13:08:38 WARN NativeCodeLoader: Unable to load native-hadoop library for your platform... using builtin-java classes where applicable\n"
     ]
    }
   ],
   "source": [
    "import pyspark\n",
    "from pyspark.sql import SparkSession\n",
    "from pyspark.sql import types\n",
    "\n",
    "spark = SparkSession.builder \\\n",
    "    .master(\"local[*]\") \\\n",
    "    .appName('test') \\\n",
    "    .getOrCreate()"
   ]
  },
  {
   "cell_type": "code",
   "execution_count": 2,
   "id": "44c43340",
   "metadata": {},
   "outputs": [],
   "source": [
    "df_green = spark.read.parquet('data/pq/green/*/*')"
   ]
  },
  {
   "cell_type": "code",
   "execution_count": 3,
   "id": "0d804a0a",
   "metadata": {},
   "outputs": [
    {
     "name": "stderr",
     "output_type": "stream",
     "text": [
      "/home/padilha/miniconda3/envs/de-zoomcamp-week5/lib/python3.9/site-packages/pyspark/sql/dataframe.py:138: FutureWarning: Deprecated in 2.0, use createOrReplaceTempView instead.\n",
      "  warnings.warn(\n"
     ]
    }
   ],
   "source": [
    "df_green.registerTempTable('green')"
   ]
  },
  {
   "cell_type": "code",
   "execution_count": 4,
   "id": "9a1d5d4c",
   "metadata": {},
   "outputs": [],
   "source": [
    "df_green_revenue = spark.sql(\"\"\"\n",
    "SELECT \n",
    "    -- Reveneue grouping \n",
    "    PULocationID AS zone,\n",
    "    date_trunc('hour', lpep_pickup_datetime) AS hour, \n",
    "\n",
    "    SUM(total_amount) AS amount,\n",
    "    count(1) AS number_records\n",
    "FROM\n",
    "    green\n",
    "WHERE\n",
    "    lpep_pickup_datetime >= '2020-01-01 00:00:00'\n",
    "GROUP BY\n",
    "    1, 2\n",
    "ORDER BY\n",
    "    1, 2\n",
    "\"\"\")"
   ]
  },
  {
   "cell_type": "code",
   "execution_count": 5,
   "id": "fbbbcad0",
   "metadata": {},
   "outputs": [
    {
     "name": "stderr",
     "output_type": "stream",
     "text": [
      "\r",
      "[Stage 1:>                                                        (0 + 19) / 19]\r"
     ]
    },
    {
     "name": "stdout",
     "output_type": "stream",
     "text": [
      "+----+-------------------+------+--------------+\n",
      "|zone|               hour|amount|number_records|\n",
      "+----+-------------------+------+--------------+\n",
      "|   1|2020-01-01 03:00:00| 155.3|             1|\n",
      "|   1|2020-01-03 05:00:00|117.39|             1|\n",
      "|   1|2020-01-26 10:00:00| 85.56|             1|\n",
      "|   1|2020-01-29 18:00:00|108.36|             1|\n",
      "|   1|2020-02-01 06:00:00|115.56|             1|\n",
      "|   1|2020-02-06 07:00:00|  98.3|             1|\n",
      "|   1|2020-02-16 07:00:00|  95.3|             1|\n",
      "|   1|2020-02-17 13:00:00|  82.3|             1|\n",
      "|   1|2020-02-26 17:00:00| 49.38|             1|\n",
      "|   1|2020-03-02 15:00:00|  88.3|             1|\n",
      "|   1|2020-03-11 12:00:00|103.56|             1|\n",
      "|   1|2020-03-12 11:00:00|  61.1|             1|\n",
      "|   1|2020-03-14 11:00:00|  16.0|             1|\n",
      "|   1|2020-03-21 17:00:00| 100.3|             1|\n",
      "|   1|2020-04-10 13:00:00| 150.3|             1|\n",
      "|   1|2020-04-23 08:00:00| 37.85|             1|\n",
      "|   1|2020-07-12 07:00:00| 79.05|             1|\n",
      "|   1|2020-07-15 06:00:00|  65.3|             1|\n",
      "|   1|2020-07-18 18:00:00| 92.55|             1|\n",
      "|   1|2020-08-16 15:00:00|  74.8|             1|\n",
      "+----+-------------------+------+--------------+\n",
      "only showing top 20 rows\n",
      "\n"
     ]
    },
    {
     "name": "stderr",
     "output_type": "stream",
     "text": [
      "\r",
      "                                                                                \r"
     ]
    }
   ],
   "source": [
    "df_green_revenue.show()"
   ]
  },
  {
   "cell_type": "code",
   "execution_count": 6,
   "id": "2efeb8e4",
   "metadata": {},
   "outputs": [
    {
     "name": "stderr",
     "output_type": "stream",
     "text": [
      "23/03/11 13:08:50 WARN MemoryManager: Total allocation exceeds 95,00% (1.020.054.720 bytes) of heap memory\n",
      "Scaling row group sizes to 95,00% for 8 writers\n",
      "23/03/11 13:08:50 WARN MemoryManager: Total allocation exceeds 95,00% (1.020.054.720 bytes) of heap memory\n",
      "Scaling row group sizes to 84,44% for 9 writers\n",
      "23/03/11 13:08:50 WARN MemoryManager: Total allocation exceeds 95,00% (1.020.054.720 bytes) of heap memory\n",
      "Scaling row group sizes to 76,00% for 10 writers\n",
      "23/03/11 13:08:50 WARN MemoryManager: Total allocation exceeds 95,00% (1.020.054.720 bytes) of heap memory\n",
      "Scaling row group sizes to 69,09% for 11 writers\n",
      "23/03/11 13:08:50 WARN MemoryManager: Total allocation exceeds 95,00% (1.020.054.720 bytes) of heap memory\n",
      "Scaling row group sizes to 63,33% for 12 writers\n",
      "23/03/11 13:08:50 WARN MemoryManager: Total allocation exceeds 95,00% (1.020.054.720 bytes) of heap memory\n",
      "Scaling row group sizes to 58,46% for 13 writers\n",
      "23/03/11 13:08:50 WARN MemoryManager: Total allocation exceeds 95,00% (1.020.054.720 bytes) of heap memory\n",
      "Scaling row group sizes to 54,29% for 14 writers\n",
      "23/03/11 13:08:50 WARN MemoryManager: Total allocation exceeds 95,00% (1.020.054.720 bytes) of heap memory\n",
      "Scaling row group sizes to 50,67% for 15 writers\n",
      "23/03/11 13:08:50 WARN MemoryManager: Total allocation exceeds 95,00% (1.020.054.720 bytes) of heap memory\n",
      "Scaling row group sizes to 47,50% for 16 writers\n",
      "23/03/11 13:08:50 WARN MemoryManager: Total allocation exceeds 95,00% (1.020.054.720 bytes) of heap memory\n",
      "Scaling row group sizes to 44,71% for 17 writers\n",
      "23/03/11 13:08:50 WARN MemoryManager: Total allocation exceeds 95,00% (1.020.054.720 bytes) of heap memory\n",
      "Scaling row group sizes to 42,22% for 18 writers\n",
      "23/03/11 13:08:50 WARN MemoryManager: Total allocation exceeds 95,00% (1.020.054.720 bytes) of heap memory\n",
      "Scaling row group sizes to 40,00% for 19 writers\n",
      "23/03/11 13:08:50 WARN MemoryManager: Total allocation exceeds 95,00% (1.020.054.720 bytes) of heap memory\n",
      "Scaling row group sizes to 38,00% for 20 writers\n",
      "23/03/11 13:08:50 WARN MemoryManager: Total allocation exceeds 95,00% (1.020.054.720 bytes) of heap memory\n",
      "Scaling row group sizes to 40,00% for 19 writers\n",
      "23/03/11 13:08:50 WARN MemoryManager: Total allocation exceeds 95,00% (1.020.054.720 bytes) of heap memory\n",
      "Scaling row group sizes to 42,22% for 18 writers\n",
      "23/03/11 13:08:50 WARN MemoryManager: Total allocation exceeds 95,00% (1.020.054.720 bytes) of heap memory\n",
      "Scaling row group sizes to 44,71% for 17 writers\n",
      "23/03/11 13:08:50 WARN MemoryManager: Total allocation exceeds 95,00% (1.020.054.720 bytes) of heap memory\n",
      "Scaling row group sizes to 47,50% for 16 writers\n",
      "23/03/11 13:08:50 WARN MemoryManager: Total allocation exceeds 95,00% (1.020.054.720 bytes) of heap memory\n",
      "Scaling row group sizes to 50,67% for 15 writers\n",
      "23/03/11 13:08:50 WARN MemoryManager: Total allocation exceeds 95,00% (1.020.054.720 bytes) of heap memory\n",
      "Scaling row group sizes to 54,29% for 14 writers\n",
      "23/03/11 13:08:50 WARN MemoryManager: Total allocation exceeds 95,00% (1.020.054.720 bytes) of heap memory\n",
      "Scaling row group sizes to 58,46% for 13 writers\n",
      "23/03/11 13:08:50 WARN MemoryManager: Total allocation exceeds 95,00% (1.020.054.720 bytes) of heap memory\n",
      "Scaling row group sizes to 63,33% for 12 writers\n",
      "23/03/11 13:08:50 WARN MemoryManager: Total allocation exceeds 95,00% (1.020.054.720 bytes) of heap memory\n",
      "Scaling row group sizes to 69,09% for 11 writers\n",
      "23/03/11 13:08:50 WARN MemoryManager: Total allocation exceeds 95,00% (1.020.054.720 bytes) of heap memory\n",
      "Scaling row group sizes to 76,00% for 10 writers\n",
      "23/03/11 13:08:51 WARN MemoryManager: Total allocation exceeds 95,00% (1.020.054.720 bytes) of heap memory\n",
      "Scaling row group sizes to 84,44% for 9 writers\n",
      "23/03/11 13:08:51 WARN MemoryManager: Total allocation exceeds 95,00% (1.020.054.720 bytes) of heap memory\n",
      "Scaling row group sizes to 95,00% for 8 writers\n",
      "                                                                                \r"
     ]
    }
   ],
   "source": [
    "df_green_revenue \\\n",
    "    .repartition(20) \\\n",
    "    .write \\\n",
    "    .parquet('data/report/revenue/green', mode='overwrite')"
   ]
  },
  {
   "cell_type": "code",
   "execution_count": 7,
   "id": "8d969871",
   "metadata": {},
   "outputs": [],
   "source": [
    "df_yellow = spark.read.parquet('data/pq/yellow/*/*')\n",
    "df_yellow.registerTempTable('yellow')"
   ]
  },
  {
   "cell_type": "code",
   "execution_count": 8,
   "id": "6336b049",
   "metadata": {},
   "outputs": [],
   "source": [
    "df_yellow_revenue = spark.sql(\"\"\"\n",
    "SELECT \n",
    "    -- Reveneue grouping \n",
    "    PULocationID AS zone,\n",
    "    date_trunc('hour', lpep_pickup_datetime) AS hour, \n",
    "\n",
    "    SUM(total_amount) AS amount,\n",
    "    count(1) AS number_records\n",
    "FROM\n",
    "    yellow\n",
    "WHERE\n",
    "    lpep_pickup_datetime >= '2020-01-01 00:00:00'\n",
    "GROUP BY\n",
    "    1, 2\n",
    "ORDER BY\n",
    "    1, 2\n",
    "\"\"\")"
   ]
  },
  {
   "cell_type": "code",
   "execution_count": 9,
   "id": "3b087ce1",
   "metadata": {},
   "outputs": [
    {
     "name": "stderr",
     "output_type": "stream",
     "text": [
      "[Stage 17:==========================>                            (10 + 11) / 21]\r"
     ]
    },
    {
     "name": "stdout",
     "output_type": "stream",
     "text": [
      "+----+-------------------+------------------+--------------+\n",
      "|zone|               hour|            amount|number_records|\n",
      "+----+-------------------+------------------+--------------+\n",
      "|null|2020-01-01 00:00:00|2215.6499999999996|            56|\n",
      "|null|2020-01-01 01:00:00|3352.9300000000003|            83|\n",
      "|null|2020-01-01 02:00:00|2631.2999999999997|            69|\n",
      "|null|2020-01-01 03:00:00|           1082.22|            23|\n",
      "|null|2020-01-01 04:00:00| 694.6700000000001|            13|\n",
      "|null|2020-01-01 05:00:00|            267.58|             5|\n",
      "|null|2020-01-01 06:00:00|            665.66|            13|\n",
      "|null|2020-01-01 07:00:00|           1505.83|            35|\n",
      "|null|2020-01-01 08:00:00|           1087.18|            28|\n",
      "|null|2020-01-01 09:00:00|1001.0800000000002|            31|\n",
      "|null|2020-01-01 10:00:00|            1028.3|            29|\n",
      "|null|2020-01-01 11:00:00|           1429.27|            40|\n",
      "|null|2020-01-01 12:00:00|           1462.15|            46|\n",
      "|null|2020-01-01 13:00:00|           1476.68|            39|\n",
      "|null|2020-01-01 14:00:00|1591.3400000000001|            38|\n",
      "|null|2020-01-01 15:00:00|1574.7399999999998|            42|\n",
      "|null|2020-01-01 16:00:00|           1633.16|            40|\n",
      "|null|2020-01-01 17:00:00|           1588.63|            37|\n",
      "|null|2020-01-01 18:00:00|1764.3899999999999|            37|\n",
      "|null|2020-01-01 19:00:00|           1022.01|            23|\n",
      "+----+-------------------+------------------+--------------+\n",
      "only showing top 20 rows\n",
      "\n"
     ]
    },
    {
     "name": "stderr",
     "output_type": "stream",
     "text": [
      "\r",
      "                                                                                \r"
     ]
    }
   ],
   "source": [
    "df_yellow_revenue.show()"
   ]
  },
  {
   "cell_type": "code",
   "execution_count": 10,
   "id": "dadeae70",
   "metadata": {},
   "outputs": [
    {
     "name": "stderr",
     "output_type": "stream",
     "text": [
      "23/03/11 13:08:58 WARN MemoryManager: Total allocation exceeds 95,00% (1.020.054.720 bytes) of heap memory\n",
      "Scaling row group sizes to 95,00% for 8 writers\n",
      "23/03/11 13:08:58 WARN MemoryManager: Total allocation exceeds 95,00% (1.020.054.720 bytes) of heap memory\n",
      "Scaling row group sizes to 84,44% for 9 writers\n",
      "23/03/11 13:08:58 WARN MemoryManager: Total allocation exceeds 95,00% (1.020.054.720 bytes) of heap memory\n",
      "Scaling row group sizes to 76,00% for 10 writers\n",
      "23/03/11 13:08:58 WARN MemoryManager: Total allocation exceeds 95,00% (1.020.054.720 bytes) of heap memory\n",
      "Scaling row group sizes to 69,09% for 11 writers\n",
      "23/03/11 13:08:58 WARN MemoryManager: Total allocation exceeds 95,00% (1.020.054.720 bytes) of heap memory\n",
      "Scaling row group sizes to 76,00% for 10 writers\n",
      "23/03/11 13:08:58 WARN MemoryManager: Total allocation exceeds 95,00% (1.020.054.720 bytes) of heap memory\n",
      "Scaling row group sizes to 84,44% for 9 writers\n",
      "23/03/11 13:08:58 WARN MemoryManager: Total allocation exceeds 95,00% (1.020.054.720 bytes) of heap memory\n",
      "Scaling row group sizes to 76,00% for 10 writers\n",
      "23/03/11 13:08:58 WARN MemoryManager: Total allocation exceeds 95,00% (1.020.054.720 bytes) of heap memory\n",
      "Scaling row group sizes to 84,44% for 9 writers\n",
      "23/03/11 13:08:58 WARN MemoryManager: Total allocation exceeds 95,00% (1.020.054.720 bytes) of heap memory\n",
      "Scaling row group sizes to 76,00% for 10 writers\n",
      "23/03/11 13:08:58 WARN MemoryManager: Total allocation exceeds 95,00% (1.020.054.720 bytes) of heap memory\n",
      "Scaling row group sizes to 84,44% for 9 writers\n",
      "23/03/11 13:08:58 WARN MemoryManager: Total allocation exceeds 95,00% (1.020.054.720 bytes) of heap memory\n",
      "Scaling row group sizes to 95,00% for 8 writers\n",
      "23/03/11 13:08:58 WARN MemoryManager: Total allocation exceeds 95,00% (1.020.054.720 bytes) of heap memory\n",
      "Scaling row group sizes to 84,44% for 9 writers\n",
      "23/03/11 13:08:58 WARN MemoryManager: Total allocation exceeds 95,00% (1.020.054.720 bytes) of heap memory\n",
      "Scaling row group sizes to 95,00% for 8 writers\n"
     ]
    }
   ],
   "source": [
    "df_yellow_revenue \\\n",
    "    .repartition(20) \\\n",
    "    .write \\\n",
    "    .parquet('data/report/revenue/yellow', mode='overwrite')"
   ]
  },
  {
   "cell_type": "code",
   "execution_count": 11,
   "id": "f9b78757",
   "metadata": {},
   "outputs": [],
   "source": [
    "# reading materialized results to avoid computing everything on the fly\n",
    "df_green_revenue = spark.read.parquet('data/report/revenue/green')\n",
    "df_yellow_revenue = spark.read.parquet('data/report/revenue/yellow')"
   ]
  },
  {
   "cell_type": "code",
   "execution_count": 12,
   "id": "c22db0e1",
   "metadata": {},
   "outputs": [],
   "source": [
    "df_green_revenue_tmp = df_green_revenue \\\n",
    "    .withColumnRenamed('amount', 'green_amount') \\\n",
    "    .withColumnRenamed('number_records', 'green_number_records')\n",
    "\n",
    "df_yellow_revenue_tmp = df_yellow_revenue \\\n",
    "    .withColumnRenamed('amount', 'yellow_amount') \\\n",
    "    .withColumnRenamed('number_records', 'yellow_number_records')"
   ]
  },
  {
   "cell_type": "code",
   "execution_count": 13,
   "id": "558677de",
   "metadata": {},
   "outputs": [],
   "source": [
    "df_join = df_green_revenue_tmp.join(df_yellow_revenue_tmp, on=['hour', 'zone'], how='outer')"
   ]
  },
  {
   "cell_type": "code",
   "execution_count": 14,
   "id": "7c549dd0",
   "metadata": {},
   "outputs": [
    {
     "name": "stdout",
     "output_type": "stream",
     "text": [
      "+-------------------+----+------------------+--------------------+-----------------+---------------------+\n",
      "|               hour|zone|      green_amount|green_number_records|    yellow_amount|yellow_number_records|\n",
      "+-------------------+----+------------------+--------------------+-----------------+---------------------+\n",
      "|2020-01-01 00:00:00|  24|              87.6|                   3|             null|                 null|\n",
      "|2020-01-01 00:00:00|  32| 68.94999999999999|                   2|             null|                 null|\n",
      "|2020-01-01 00:00:00|  55|129.29000000000002|                   4|             null|                 null|\n",
      "|2020-01-01 00:00:00|  77| 75.99000000000001|                   2|             null|                 null|\n",
      "|2020-01-01 00:00:00| 146| 99.36999999999999|                   6|             null|                 null|\n",
      "|2020-01-01 00:00:00| 213|             46.12|                   1|             null|                 null|\n",
      "|2020-01-01 01:00:00|   4|              null|                null|568.6999999999999|                   10|\n",
      "|2020-01-01 01:00:00|  14|             68.83|                   3|             null|                 null|\n",
      "|2020-01-01 01:00:00|  62|             143.8|                   6|             null|                 null|\n",
      "|2020-01-01 01:00:00|  65|            246.86|                  16|             null|                 null|\n",
      "|2020-01-01 01:00:00|  92|            174.57|                   9|             null|                 null|\n",
      "|2020-01-01 01:00:00| 134|             34.86|                   4|             null|                 null|\n",
      "|2020-01-01 01:00:00| 153|              17.8|                   1|             null|                 null|\n",
      "|2020-01-01 01:00:00| 177|210.54000000000002|                   8|             null|                 null|\n",
      "|2020-01-01 01:00:00| 248|              10.8|                   1|             null|                 null|\n",
      "|2020-01-01 02:00:00|  10|               3.8|                   1|             null|                 null|\n",
      "|2020-01-01 02:00:00|  56|             64.44|                   3|             null|                 null|\n",
      "|2020-01-01 02:00:00|  74| 339.8800000000001|                  25|             null|                 null|\n",
      "|2020-01-01 02:00:00| 159|107.69999999999999|                   4|             null|                 null|\n",
      "|2020-01-01 02:00:00| 189|            242.42|                   9|             null|                 null|\n",
      "+-------------------+----+------------------+--------------------+-----------------+---------------------+\n",
      "only showing top 20 rows\n",
      "\n"
     ]
    }
   ],
   "source": [
    "df_join.show()"
   ]
  },
  {
   "cell_type": "code",
   "execution_count": 15,
   "id": "4446aec9",
   "metadata": {},
   "outputs": [
    {
     "name": "stderr",
     "output_type": "stream",
     "text": [
      "23/03/11 13:10:00 WARN MemoryManager: Total allocation exceeds 95,00% (1.020.054.720 bytes) of heap memory\n",
      "Scaling row group sizes to 95,00% for 8 writers\n",
      "23/03/11 13:10:00 WARN MemoryManager: Total allocation exceeds 95,00% (1.020.054.720 bytes) of heap memory\n",
      "Scaling row group sizes to 84,44% for 9 writers\n",
      "23/03/11 13:10:00 WARN MemoryManager: Total allocation exceeds 95,00% (1.020.054.720 bytes) of heap memory\n",
      "Scaling row group sizes to 76,00% for 10 writers\n",
      "23/03/11 13:10:00 WARN MemoryManager: Total allocation exceeds 95,00% (1.020.054.720 bytes) of heap memory\n",
      "Scaling row group sizes to 69,09% for 11 writers\n",
      "23/03/11 13:10:00 WARN MemoryManager: Total allocation exceeds 95,00% (1.020.054.720 bytes) of heap memory\n",
      "Scaling row group sizes to 63,33% for 12 writers\n",
      "23/03/11 13:10:00 WARN MemoryManager: Total allocation exceeds 95,00% (1.020.054.720 bytes) of heap memory\n",
      "Scaling row group sizes to 58,46% for 13 writers\n",
      "23/03/11 13:10:00 WARN MemoryManager: Total allocation exceeds 95,00% (1.020.054.720 bytes) of heap memory\n",
      "Scaling row group sizes to 54,29% for 14 writers\n",
      "23/03/11 13:10:00 WARN MemoryManager: Total allocation exceeds 95,00% (1.020.054.720 bytes) of heap memory\n",
      "Scaling row group sizes to 50,67% for 15 writers\n",
      "23/03/11 13:10:00 WARN MemoryManager: Total allocation exceeds 95,00% (1.020.054.720 bytes) of heap memory\n",
      "Scaling row group sizes to 54,29% for 14 writers\n",
      "23/03/11 13:10:00 WARN MemoryManager: Total allocation exceeds 95,00% (1.020.054.720 bytes) of heap memory\n",
      "Scaling row group sizes to 58,46% for 13 writers\n",
      "23/03/11 13:10:00 WARN MemoryManager: Total allocation exceeds 95,00% (1.020.054.720 bytes) of heap memory\n",
      "Scaling row group sizes to 63,33% for 12 writers\n",
      "23/03/11 13:10:00 WARN MemoryManager: Total allocation exceeds 95,00% (1.020.054.720 bytes) of heap memory\n",
      "Scaling row group sizes to 69,09% for 11 writers\n",
      "23/03/11 13:10:00 WARN MemoryManager: Total allocation exceeds 95,00% (1.020.054.720 bytes) of heap memory\n",
      "Scaling row group sizes to 76,00% for 10 writers\n",
      "23/03/11 13:10:00 WARN MemoryManager: Total allocation exceeds 95,00% (1.020.054.720 bytes) of heap memory\n",
      "Scaling row group sizes to 84,44% for 9 writers\n",
      "23/03/11 13:10:00 WARN MemoryManager: Total allocation exceeds 95,00% (1.020.054.720 bytes) of heap memory\n",
      "Scaling row group sizes to 95,00% for 8 writers\n",
      "                                                                                \r"
     ]
    }
   ],
   "source": [
    "df_join.write.parquet('data/report/revenue/total', mode='overwrite')"
   ]
  },
  {
   "cell_type": "code",
   "execution_count": 16,
   "id": "f3f36994",
   "metadata": {},
   "outputs": [],
   "source": [
    "df_join = spark.read.parquet('data/report/revenue/total')"
   ]
  },
  {
   "cell_type": "code",
   "execution_count": 17,
   "id": "895dd255",
   "metadata": {},
   "outputs": [],
   "source": [
    "df_zones = spark.read.parquet('zones/')"
   ]
  },
  {
   "cell_type": "code",
   "execution_count": 18,
   "id": "dd23aa01",
   "metadata": {},
   "outputs": [],
   "source": [
    "df_result = df_join.join(df_zones, df_join.zone == df_zones.LocationID)"
   ]
  },
  {
   "cell_type": "code",
   "execution_count": 19,
   "id": "127daf76",
   "metadata": {},
   "outputs": [
    {
     "name": "stdout",
     "output_type": "stream",
     "text": [
      "+-------------------+----+------------------+--------------------+-------------+---------------------+---------+--------------------+------------+\n",
      "|               hour|zone|      green_amount|green_number_records|yellow_amount|yellow_number_records|  Borough|                Zone|service_zone|\n",
      "+-------------------+----+------------------+--------------------+-------------+---------------------+---------+--------------------+------------+\n",
      "|2020-01-01 00:00:00|   4|              null|                null|        929.3|                   12|Manhattan|       Alphabet City| Yellow Zone|\n",
      "|2020-01-01 00:00:00|  71|              23.8|                   1|         null|                 null| Brooklyn|East Flatbush/Far...|   Boro Zone|\n",
      "|2020-01-01 00:00:00|  78|             34.46|                   2|         null|                 null|    Bronx|        East Tremont|   Boro Zone|\n",
      "|2020-01-01 00:00:00| 145|             65.14|                   4|         null|                 null|   Queens|Long Island City/...|   Boro Zone|\n",
      "|2020-01-01 00:00:00| 179| 87.32000000000001|                   5|         null|                 null|   Queens|         Old Astoria|   Boro Zone|\n",
      "|2020-01-01 00:00:00| 189|            102.75|                   7|         null|                 null| Brooklyn|    Prospect Heights|   Boro Zone|\n",
      "|2020-01-01 00:00:00| 210|              18.1|                   2|         null|                 null| Brooklyn|      Sheepshead Bay|   Boro Zone|\n",
      "|2020-01-01 00:00:00| 215|            546.36|                  18|         null|                 null|   Queens|       South Jamaica|   Boro Zone|\n",
      "|2020-01-01 00:00:00| 223|            149.48|                   8|         null|                 null|   Queens|            Steinway|   Boro Zone|\n",
      "|2020-01-01 00:00:00| 242|             64.25|                   1|         null|                 null|    Bronx|Van Nest/Morris Park|   Boro Zone|\n",
      "|2020-01-01 01:00:00|  33|283.14000000000004|                  10|         null|                 null| Brooklyn|    Brooklyn Heights|   Boro Zone|\n",
      "|2020-01-01 01:00:00|  41|             819.5|                  61|         null|                 null|Manhattan|      Central Harlem|   Boro Zone|\n",
      "|2020-01-01 01:00:00|  52|51.519999999999996|                   3|         null|                 null| Brooklyn|         Cobble Hill|   Boro Zone|\n",
      "|2020-01-01 01:00:00|  76|              28.8|                   1|         null|                 null| Brooklyn|       East New York|   Boro Zone|\n",
      "|2020-01-01 01:00:00|  77|             64.66|                   2|         null|                 null| Brooklyn|East New York/Pen...|   Boro Zone|\n",
      "|2020-01-01 01:00:00| 136|35.230000000000004|                   2|         null|                 null|    Bronx| Kingsbridge Heights|   Boro Zone|\n",
      "|2020-01-01 01:00:00| 150|54.400000000000006|                   2|         null|                 null| Brooklyn|     Manhattan Beach|   Boro Zone|\n",
      "|2020-01-01 01:00:00| 213|             44.91|                   2|         null|                 null|    Bronx|Soundview/Castle ...|   Boro Zone|\n",
      "|2020-01-01 01:00:00| 216|             89.25|                   3|         null|                 null|   Queens|    South Ozone Park|   Boro Zone|\n",
      "|2020-01-01 01:00:00| 217|             12.55|                   2|         null|                 null| Brooklyn|  South Williamsburg|   Boro Zone|\n",
      "+-------------------+----+------------------+--------------------+-------------+---------------------+---------+--------------------+------------+\n",
      "only showing top 20 rows\n",
      "\n"
     ]
    }
   ],
   "source": [
    "df_result.drop('LocationID').show()"
   ]
  },
  {
   "cell_type": "code",
   "execution_count": 21,
   "id": "7d70bbda",
   "metadata": {},
   "outputs": [
    {
     "name": "stderr",
     "output_type": "stream",
     "text": [
      "23/03/11 13:10:23 WARN MemoryManager: Total allocation exceeds 95,00% (1.020.054.720 bytes) of heap memory\n",
      "Scaling row group sizes to 95,00% for 8 writers\n",
      "23/03/11 13:10:23 WARN MemoryManager: Total allocation exceeds 95,00% (1.020.054.720 bytes) of heap memory\n",
      "Scaling row group sizes to 84,44% for 9 writers\n",
      "23/03/11 13:10:23 WARN MemoryManager: Total allocation exceeds 95,00% (1.020.054.720 bytes) of heap memory\n",
      "Scaling row group sizes to 76,00% for 10 writers\n",
      "23/03/11 13:10:23 WARN MemoryManager: Total allocation exceeds 95,00% (1.020.054.720 bytes) of heap memory\n",
      "Scaling row group sizes to 69,09% for 11 writers\n",
      "23/03/11 13:10:23 WARN MemoryManager: Total allocation exceeds 95,00% (1.020.054.720 bytes) of heap memory\n",
      "Scaling row group sizes to 63,33% for 12 writers\n",
      "23/03/11 13:10:23 WARN MemoryManager: Total allocation exceeds 95,00% (1.020.054.720 bytes) of heap memory\n",
      "Scaling row group sizes to 58,46% for 13 writers\n",
      "23/03/11 13:10:23 WARN MemoryManager: Total allocation exceeds 95,00% (1.020.054.720 bytes) of heap memory\n",
      "Scaling row group sizes to 54,29% for 14 writers\n",
      "23/03/11 13:10:24 WARN MemoryManager: Total allocation exceeds 95,00% (1.020.054.720 bytes) of heap memory\n",
      "Scaling row group sizes to 50,67% for 15 writers\n",
      "23/03/11 13:10:24 WARN MemoryManager: Total allocation exceeds 95,00% (1.020.054.720 bytes) of heap memory\n",
      "Scaling row group sizes to 54,29% for 14 writers\n",
      "23/03/11 13:10:24 WARN MemoryManager: Total allocation exceeds 95,00% (1.020.054.720 bytes) of heap memory\n",
      "Scaling row group sizes to 58,46% for 13 writers\n",
      "23/03/11 13:10:24 WARN MemoryManager: Total allocation exceeds 95,00% (1.020.054.720 bytes) of heap memory\n",
      "Scaling row group sizes to 63,33% for 12 writers\n",
      "23/03/11 13:10:24 WARN MemoryManager: Total allocation exceeds 95,00% (1.020.054.720 bytes) of heap memory\n",
      "Scaling row group sizes to 69,09% for 11 writers\n",
      "23/03/11 13:10:24 WARN MemoryManager: Total allocation exceeds 95,00% (1.020.054.720 bytes) of heap memory\n",
      "Scaling row group sizes to 76,00% for 10 writers\n",
      "23/03/11 13:10:24 WARN MemoryManager: Total allocation exceeds 95,00% (1.020.054.720 bytes) of heap memory\n",
      "Scaling row group sizes to 84,44% for 9 writers\n",
      "23/03/11 13:10:24 WARN MemoryManager: Total allocation exceeds 95,00% (1.020.054.720 bytes) of heap memory\n",
      "Scaling row group sizes to 95,00% for 8 writers\n"
     ]
    }
   ],
   "source": [
    "df_result.drop('LocationID', 'zone').write.parquet('tmp/revenue-zones', mode='overwrite')"
   ]
  },
  {
   "cell_type": "code",
   "execution_count": null,
   "id": "9e162596",
   "metadata": {},
   "outputs": [],
   "source": []
  }
 ],
 "metadata": {
  "kernelspec": {
   "display_name": "Python 3 (ipykernel)",
   "language": "python",
   "name": "python3"
  },
  "language_info": {
   "codemirror_mode": {
    "name": "ipython",
    "version": 3
   },
   "file_extension": ".py",
   "mimetype": "text/x-python",
   "name": "python",
   "nbconvert_exporter": "python",
   "pygments_lexer": "ipython3",
   "version": "3.9.16"
  }
 },
 "nbformat": 4,
 "nbformat_minor": 5
}
