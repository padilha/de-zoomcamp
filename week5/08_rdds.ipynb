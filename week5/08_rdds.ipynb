{
 "cells": [
  {
   "cell_type": "code",
   "execution_count": 1,
   "id": "03b8680b",
   "metadata": {},
   "outputs": [
    {
     "name": "stderr",
     "output_type": "stream",
     "text": [
      "23/03/12 09:42:14 WARN Utils: Your hostname, padilha-A70-HYB resolves to a loopback address: 127.0.1.1; using 192.168.15.5 instead (on interface wlo1)\n",
      "23/03/12 09:42:14 WARN Utils: Set SPARK_LOCAL_IP if you need to bind to another address\n",
      "WARNING: An illegal reflective access operation has occurred\n",
      "WARNING: Illegal reflective access by org.apache.spark.unsafe.Platform (file:/home/padilha/miniconda3/envs/de-zoomcamp-week5/lib/python3.9/site-packages/pyspark/jars/spark-unsafe_2.12-3.2.1.jar) to constructor java.nio.DirectByteBuffer(long,int)\n",
      "WARNING: Please consider reporting this to the maintainers of org.apache.spark.unsafe.Platform\n",
      "WARNING: Use --illegal-access=warn to enable warnings of further illegal reflective access operations\n",
      "WARNING: All illegal access operations will be denied in a future release\n",
      "Using Spark's default log4j profile: org/apache/spark/log4j-defaults.properties\n",
      "Setting default log level to \"WARN\".\n",
      "To adjust logging level use sc.setLogLevel(newLevel). For SparkR, use setLogLevel(newLevel).\n",
      "23/03/12 09:42:14 WARN NativeCodeLoader: Unable to load native-hadoop library for your platform... using builtin-java classes where applicable\n"
     ]
    }
   ],
   "source": [
    "import pyspark\n",
    "from pyspark.sql import SparkSession\n",
    "\n",
    "spark = SparkSession.builder \\\n",
    "    .master(\"local[*]\") \\\n",
    "    .appName('test') \\\n",
    "    .getOrCreate()"
   ]
  },
  {
   "cell_type": "code",
   "execution_count": 2,
   "id": "ac068cd2",
   "metadata": {},
   "outputs": [],
   "source": [
    "df_green = spark.read.parquet('data/pq/green/*/*')"
   ]
  },
  {
   "cell_type": "code",
   "execution_count": 3,
   "id": "a6e0eab8",
   "metadata": {},
   "outputs": [
    {
     "data": {
      "text/plain": [
       "[Row(VendorID=2, lpep_pickup_datetime=datetime.datetime(2020, 1, 8, 15, 1, 13), lpep_dropoff_datetime=datetime.datetime(2020, 1, 8, 15, 12, 35), store_and_fwd_flag='N', RatecodeID=1, PULocationID=97, DOLocationID=61, passenger_count=1, trip_distance=2.18, fare_amount=10.0, extra=0.0, mta_tax=0.5, tip_amount=2.7, tolls_amount=0.0, ehail_fee=None, improvement_surcharge=0.3, total_amount=13.5, payment_type=1, trip_type=1, congestion_surcharge=0.0),\n",
       " Row(VendorID=None, lpep_pickup_datetime=datetime.datetime(2020, 1, 27, 16, 4), lpep_dropoff_datetime=datetime.datetime(2020, 1, 27, 16, 43), store_and_fwd_flag=None, RatecodeID=None, PULocationID=231, DOLocationID=62, passenger_count=None, trip_distance=6.38, fare_amount=26.16, extra=2.75, mta_tax=0.0, tip_amount=0.0, tolls_amount=0.0, ehail_fee=None, improvement_surcharge=0.3, total_amount=29.21, payment_type=None, trip_type=None, congestion_surcharge=None),\n",
       " Row(VendorID=None, lpep_pickup_datetime=datetime.datetime(2020, 1, 11, 11, 3), lpep_dropoff_datetime=datetime.datetime(2020, 1, 11, 11, 29), store_and_fwd_flag=None, RatecodeID=None, PULocationID=222, DOLocationID=36, passenger_count=None, trip_distance=3.95, fare_amount=17.68, extra=0.0, mta_tax=0.5, tip_amount=0.0, tolls_amount=0.0, ehail_fee=None, improvement_surcharge=0.3, total_amount=18.48, payment_type=None, trip_type=None, congestion_surcharge=None),\n",
       " Row(VendorID=None, lpep_pickup_datetime=datetime.datetime(2020, 1, 26, 12, 13), lpep_dropoff_datetime=datetime.datetime(2020, 1, 26, 12, 16), store_and_fwd_flag=None, RatecodeID=None, PULocationID=174, DOLocationID=174, passenger_count=None, trip_distance=0.39, fare_amount=11.13, extra=5.5, mta_tax=0.0, tip_amount=0.0, tolls_amount=0.0, ehail_fee=None, improvement_surcharge=0.3, total_amount=16.93, payment_type=None, trip_type=None, congestion_surcharge=None),\n",
       " Row(VendorID=2, lpep_pickup_datetime=datetime.datetime(2020, 1, 22, 3, 48, 21), lpep_dropoff_datetime=datetime.datetime(2020, 1, 22, 3, 53, 42), store_and_fwd_flag='N', RatecodeID=1, PULocationID=260, DOLocationID=83, passenger_count=1, trip_distance=0.98, fare_amount=5.5, extra=0.5, mta_tax=0.5, tip_amount=0.0, tolls_amount=0.0, ehail_fee=None, improvement_surcharge=0.3, total_amount=6.8, payment_type=2, trip_type=1, congestion_surcharge=0.0)]"
      ]
     },
     "execution_count": 3,
     "metadata": {},
     "output_type": "execute_result"
    }
   ],
   "source": [
    "df_green.take(5)"
   ]
  },
  {
   "cell_type": "code",
   "execution_count": 4,
   "id": "62393b20",
   "metadata": {},
   "outputs": [],
   "source": [
    "rdd = df_green \\\n",
    "    .select('lpep_pickup_datetime', 'PULocationID', 'total_amount') \\\n",
    "    .rdd"
   ]
  },
  {
   "cell_type": "code",
   "execution_count": 5,
   "id": "c10cd6e3",
   "metadata": {},
   "outputs": [
    {
     "data": {
      "text/plain": [
       "[Row(lpep_pickup_datetime=datetime.datetime(2020, 1, 8, 15, 1, 13), PULocationID=97, total_amount=13.5),\n",
       " Row(lpep_pickup_datetime=datetime.datetime(2020, 1, 27, 16, 4), PULocationID=231, total_amount=29.21),\n",
       " Row(lpep_pickup_datetime=datetime.datetime(2020, 1, 11, 11, 3), PULocationID=222, total_amount=18.48),\n",
       " Row(lpep_pickup_datetime=datetime.datetime(2020, 1, 26, 12, 13), PULocationID=174, total_amount=16.93),\n",
       " Row(lpep_pickup_datetime=datetime.datetime(2020, 1, 22, 3, 48, 21), PULocationID=260, total_amount=6.8)]"
      ]
     },
     "execution_count": 5,
     "metadata": {},
     "output_type": "execute_result"
    }
   ],
   "source": [
    "rdd.take(5)"
   ]
  },
  {
   "cell_type": "code",
   "execution_count": 6,
   "id": "8e65c4b5",
   "metadata": {},
   "outputs": [
    {
     "data": {
      "text/plain": [
       "[Row(lpep_pickup_datetime=datetime.datetime(2020, 1, 8, 15, 1, 13), PULocationID=97, total_amount=13.5),\n",
       " Row(lpep_pickup_datetime=datetime.datetime(2020, 1, 27, 16, 4), PULocationID=231, total_amount=29.21),\n",
       " Row(lpep_pickup_datetime=datetime.datetime(2020, 1, 11, 11, 3), PULocationID=222, total_amount=18.48)]"
      ]
     },
     "execution_count": 6,
     "metadata": {},
     "output_type": "execute_result"
    }
   ],
   "source": [
    "from datetime import datetime\n",
    "\n",
    "def filter_outliers(row):\n",
    "    return row.lpep_pickup_datetime >= start\n",
    "\n",
    "start = datetime(year=2020, month=1, day=1)\n",
    "rdd.filter(filter_outliers).take(3)"
   ]
  },
  {
   "cell_type": "code",
   "execution_count": 7,
   "id": "f4fff1bc",
   "metadata": {},
   "outputs": [],
   "source": [
    "def prepare_for_grouping(row):\n",
    "    hour = row.lpep_pickup_datetime.replace(minute=0, second=0, microsecond=0)\n",
    "    zone = row.PULocationID\n",
    "    key = (hour, zone)\n",
    "    \n",
    "    amount = row.total_amount\n",
    "    count = 1\n",
    "    value = (amount, count)\n",
    "    \n",
    "    return (key, value)"
   ]
  },
  {
   "cell_type": "code",
   "execution_count": 8,
   "id": "a1ae8814",
   "metadata": {},
   "outputs": [],
   "source": [
    "def calculate_revenue(left_value, right_value):\n",
    "    left_amount, left_count = left_value    \n",
    "    right_amount, right_count = right_value\n",
    "    \n",
    "    output_amount = left_amount + right_amount\n",
    "    output_count = left_count + right_count\n",
    "    return (output_amount, output_count)"
   ]
  },
  {
   "cell_type": "code",
   "execution_count": 9,
   "id": "940841ed",
   "metadata": {},
   "outputs": [
    {
     "name": "stderr",
     "output_type": "stream",
     "text": [
      "                                                                                \r"
     ]
    },
    {
     "data": {
      "text/plain": [
       "[((datetime.datetime(2020, 1, 9, 9, 0), 7), (458.36000000000007, 30)),\n",
       " ((datetime.datetime(2020, 1, 3, 17, 0), 165), (69.14, 2)),\n",
       " ((datetime.datetime(2020, 1, 18, 21, 0), 42), (203.26999999999998, 15)),\n",
       " ((datetime.datetime(2020, 1, 3, 17, 0), 241), (22.3, 2)),\n",
       " ((datetime.datetime(2020, 1, 1, 7, 0), 80), (1653.3099999999997, 39))]"
      ]
     },
     "execution_count": 9,
     "metadata": {},
     "output_type": "execute_result"
    }
   ],
   "source": [
    "rdd \\\n",
    "    .filter(filter_outliers) \\\n",
    "    .map(prepare_for_grouping) \\\n",
    "    .reduceByKey(calculate_revenue) \\\n",
    "    .take(5)"
   ]
  },
  {
   "cell_type": "code",
   "execution_count": 10,
   "id": "acf68fd5",
   "metadata": {},
   "outputs": [
    {
     "name": "stderr",
     "output_type": "stream",
     "text": [
      "                                                                                \r"
     ]
    },
    {
     "name": "stdout",
     "output_type": "stream",
     "text": [
      "+-------------------+---+------------------+---+\n",
      "|                 _1| _2|                _3| _4|\n",
      "+-------------------+---+------------------+---+\n",
      "|2020-01-09 09:00:00|  7|458.36000000000007| 30|\n",
      "|2020-01-03 17:00:00|165|             69.14|  2|\n",
      "|2020-01-18 21:00:00| 42|203.26999999999998| 15|\n",
      "|2020-01-03 17:00:00|241|              22.3|  2|\n",
      "|2020-01-01 07:00:00| 80|1653.3099999999997| 39|\n",
      "|2020-01-30 23:00:00|129|            292.88| 25|\n",
      "|2020-01-13 14:00:00| 25|             441.0| 22|\n",
      "|2020-01-10 11:00:00| 97| 389.8400000000001| 20|\n",
      "|2020-01-07 08:00:00|133|163.23000000000002|  7|\n",
      "|2020-01-22 13:00:00|244| 589.1100000000001| 28|\n",
      "|2020-01-22 20:00:00|181| 257.4300000000001| 21|\n",
      "|2020-01-30 18:00:00| 66| 515.8800000000001| 22|\n",
      "|2020-01-22 13:00:00|130|361.46000000000004| 14|\n",
      "|2020-01-09 14:00:00|193|             143.4| 11|\n",
      "|2020-01-07 16:00:00|129|191.92999999999998| 14|\n",
      "|2020-01-19 02:00:00|255|            469.14| 22|\n",
      "|2020-01-06 07:00:00|244|            297.64| 13|\n",
      "|2020-01-25 15:00:00| 95|486.52000000000015| 30|\n",
      "|2020-01-08 20:00:00|212|             52.75|  3|\n",
      "|2020-01-04 01:00:00| 41|284.76000000000005| 29|\n",
      "+-------------------+---+------------------+---+\n",
      "only showing top 20 rows\n",
      "\n"
     ]
    }
   ],
   "source": [
    "def unwrap(row):\n",
    "    return (row[0][0], row[0][1], row[1][0], row[1][1])\n",
    "\n",
    "rdd \\\n",
    "    .filter(filter_outliers) \\\n",
    "    .map(prepare_for_grouping) \\\n",
    "    .reduceByKey(calculate_revenue) \\\n",
    "    .map(unwrap) \\\n",
    "    .toDF() \\\n",
    "    .show()"
   ]
  },
  {
   "cell_type": "code",
   "execution_count": 11,
   "id": "342b2f63",
   "metadata": {},
   "outputs": [
    {
     "name": "stderr",
     "output_type": "stream",
     "text": [
      "[Stage 10:=====================================================>  (18 + 1) / 19]\r"
     ]
    },
    {
     "name": "stdout",
     "output_type": "stream",
     "text": [
      "+-------------------+----+------------------+-----+\n",
      "|               hour|zone|           revenue|count|\n",
      "+-------------------+----+------------------+-----+\n",
      "|2020-01-09 09:00:00|   7|458.36000000000007|   30|\n",
      "|2020-01-03 17:00:00| 165|             69.14|    2|\n",
      "|2020-01-18 21:00:00|  42|203.26999999999998|   15|\n",
      "|2020-01-03 17:00:00| 241|              22.3|    2|\n",
      "|2020-01-01 07:00:00|  80|1653.3099999999997|   39|\n",
      "|2020-01-30 23:00:00| 129|            292.88|   25|\n",
      "|2020-01-13 14:00:00|  25|             441.0|   22|\n",
      "|2020-01-10 11:00:00|  97| 389.8400000000001|   20|\n",
      "|2020-01-07 08:00:00| 133|163.23000000000002|    7|\n",
      "|2020-01-22 13:00:00| 244| 589.1100000000001|   28|\n",
      "|2020-01-22 20:00:00| 181| 257.4300000000001|   21|\n",
      "|2020-01-30 18:00:00|  66| 515.8800000000001|   22|\n",
      "|2020-01-22 13:00:00| 130|361.46000000000004|   14|\n",
      "|2020-01-09 14:00:00| 193|             143.4|   11|\n",
      "|2020-01-07 16:00:00| 129|191.92999999999998|   14|\n",
      "|2020-01-19 02:00:00| 255|            469.14|   22|\n",
      "|2020-01-06 07:00:00| 244|            297.64|   13|\n",
      "|2020-01-25 15:00:00|  95|486.52000000000015|   30|\n",
      "|2020-01-08 20:00:00| 212|             52.75|    3|\n",
      "|2020-01-04 01:00:00|  41|284.76000000000005|   29|\n",
      "+-------------------+----+------------------+-----+\n",
      "only showing top 20 rows\n",
      "\n"
     ]
    },
    {
     "name": "stderr",
     "output_type": "stream",
     "text": [
      "\r",
      "                                                                                \r"
     ]
    }
   ],
   "source": [
    "from collections import namedtuple\n",
    "\n",
    "RevenueRow = namedtuple('RevenueRow', ['hour', 'zone', 'revenue', 'count'])\n",
    "\n",
    "def unwrap(row):\n",
    "    return RevenueRow(\n",
    "        hour=row[0][0],\n",
    "        zone=row[0][1],\n",
    "        revenue=row[1][0],\n",
    "        count=row[1][1]\n",
    "    )\n",
    "\n",
    "rdd \\\n",
    "    .filter(filter_outliers) \\\n",
    "    .map(prepare_for_grouping) \\\n",
    "    .reduceByKey(calculate_revenue) \\\n",
    "    .map(unwrap) \\\n",
    "    .toDF() \\\n",
    "    .show()"
   ]
  },
  {
   "cell_type": "code",
   "execution_count": 12,
   "id": "14994d8a",
   "metadata": {},
   "outputs": [],
   "source": [
    "from pyspark.sql import types\n",
    "\n",
    "result_schema = types.StructType([\n",
    "    types.StructField('hour', types.TimestampType(), True),\n",
    "    types.StructField('zone', types.IntegerType(), True),\n",
    "    types.StructField('revenue', types.DoubleType(), True),\n",
    "    types.StructField('count', types.IntegerType(), True)\n",
    "])\n",
    "\n",
    "df_result = rdd \\\n",
    "    .filter(filter_outliers) \\\n",
    "    .map(prepare_for_grouping) \\\n",
    "    .reduceByKey(calculate_revenue) \\\n",
    "    .map(unwrap) \\\n",
    "    .toDF(result_schema)"
   ]
  },
  {
   "cell_type": "code",
   "execution_count": 13,
   "id": "124acce8",
   "metadata": {},
   "outputs": [
    {
     "name": "stderr",
     "output_type": "stream",
     "text": [
      "[Stage 14:=====================================================>  (18 + 1) / 19]\r"
     ]
    },
    {
     "name": "stdout",
     "output_type": "stream",
     "text": [
      "+-------------------+----+------------------+-----+\n",
      "|               hour|zone|           revenue|count|\n",
      "+-------------------+----+------------------+-----+\n",
      "|2020-01-09 09:00:00|   7|458.36000000000007|   30|\n",
      "|2020-01-03 17:00:00| 165|             69.14|    2|\n",
      "|2020-01-18 21:00:00|  42|203.26999999999998|   15|\n",
      "|2020-01-03 17:00:00| 241|              22.3|    2|\n",
      "|2020-01-01 07:00:00|  80|1653.3099999999997|   39|\n",
      "|2020-01-30 23:00:00| 129|            292.88|   25|\n",
      "|2020-01-13 14:00:00|  25|             441.0|   22|\n",
      "|2020-01-10 11:00:00|  97| 389.8400000000001|   20|\n",
      "|2020-01-07 08:00:00| 133|163.23000000000002|    7|\n",
      "|2020-01-22 13:00:00| 244| 589.1100000000001|   28|\n",
      "|2020-01-22 20:00:00| 181| 257.4300000000001|   21|\n",
      "|2020-01-30 18:00:00|  66| 515.8800000000001|   22|\n",
      "|2020-01-22 13:00:00| 130|361.46000000000004|   14|\n",
      "|2020-01-09 14:00:00| 193|             143.4|   11|\n",
      "|2020-01-07 16:00:00| 129|191.92999999999998|   14|\n",
      "|2020-01-19 02:00:00| 255|            469.14|   22|\n",
      "|2020-01-06 07:00:00| 244|            297.64|   13|\n",
      "|2020-01-25 15:00:00|  95|486.52000000000015|   30|\n",
      "|2020-01-08 20:00:00| 212|             52.75|    3|\n",
      "|2020-01-04 01:00:00|  41|284.76000000000005|   29|\n",
      "+-------------------+----+------------------+-----+\n",
      "only showing top 20 rows\n",
      "\n"
     ]
    },
    {
     "name": "stderr",
     "output_type": "stream",
     "text": [
      "\r",
      "                                                                                \r"
     ]
    }
   ],
   "source": [
    "df_result.show()"
   ]
  },
  {
   "cell_type": "code",
   "execution_count": 14,
   "id": "11e15dae",
   "metadata": {},
   "outputs": [
    {
     "data": {
      "text/plain": [
       "DataFrame[hour: timestamp, zone: int, revenue: double, count: int]"
      ]
     },
     "execution_count": 14,
     "metadata": {},
     "output_type": "execute_result"
    }
   ],
   "source": [
    "df_result"
   ]
  },
  {
   "cell_type": "code",
   "execution_count": 15,
   "id": "1552c2af",
   "metadata": {},
   "outputs": [
    {
     "name": "stderr",
     "output_type": "stream",
     "text": [
      "23/03/12 09:42:34 WARN MemoryManager: Total allocation exceeds 95,00% (1.020.054.720 bytes) of heap memory\n",
      "Scaling row group sizes to 95,00% for 8 writers\n",
      "23/03/12 09:42:34 WARN MemoryManager: Total allocation exceeds 95,00% (1.020.054.720 bytes) of heap memory\n",
      "Scaling row group sizes to 84,44% for 9 writers\n",
      "23/03/12 09:42:34 WARN MemoryManager: Total allocation exceeds 95,00% (1.020.054.720 bytes) of heap memory\n",
      "Scaling row group sizes to 76,00% for 10 writers\n",
      "23/03/12 09:42:34 WARN MemoryManager: Total allocation exceeds 95,00% (1.020.054.720 bytes) of heap memory\n",
      "Scaling row group sizes to 69,09% for 11 writers\n",
      "23/03/12 09:42:34 WARN MemoryManager: Total allocation exceeds 95,00% (1.020.054.720 bytes) of heap memory\n",
      "Scaling row group sizes to 63,33% for 12 writers\n",
      "23/03/12 09:42:34 WARN MemoryManager: Total allocation exceeds 95,00% (1.020.054.720 bytes) of heap memory\n",
      "Scaling row group sizes to 58,46% for 13 writers\n",
      "23/03/12 09:42:34 WARN MemoryManager: Total allocation exceeds 95,00% (1.020.054.720 bytes) of heap memory\n",
      "Scaling row group sizes to 54,29% for 14 writers\n",
      "23/03/12 09:42:34 WARN MemoryManager: Total allocation exceeds 95,00% (1.020.054.720 bytes) of heap memory\n",
      "Scaling row group sizes to 50,67% for 15 writers\n",
      "23/03/12 09:42:34 WARN MemoryManager: Total allocation exceeds 95,00% (1.020.054.720 bytes) of heap memory\n",
      "Scaling row group sizes to 47,50% for 16 writers\n",
      "23/03/12 09:42:34 WARN MemoryManager: Total allocation exceeds 95,00% (1.020.054.720 bytes) of heap memory\n",
      "Scaling row group sizes to 44,71% for 17 writers\n",
      "23/03/12 09:42:34 WARN MemoryManager: Total allocation exceeds 95,00% (1.020.054.720 bytes) of heap memory\n",
      "Scaling row group sizes to 42,22% for 18 writers\n",
      "23/03/12 09:42:34 WARN MemoryManager: Total allocation exceeds 95,00% (1.020.054.720 bytes) of heap memory\n",
      "Scaling row group sizes to 40,00% for 19 writers\n",
      "23/03/12 09:42:35 WARN MemoryManager: Total allocation exceeds 95,00% (1.020.054.720 bytes) of heap memory\n",
      "Scaling row group sizes to 42,22% for 18 writers\n",
      "23/03/12 09:42:35 WARN MemoryManager: Total allocation exceeds 95,00% (1.020.054.720 bytes) of heap memory\n",
      "Scaling row group sizes to 44,71% for 17 writers\n",
      "23/03/12 09:42:35 WARN MemoryManager: Total allocation exceeds 95,00% (1.020.054.720 bytes) of heap memory\n",
      "Scaling row group sizes to 47,50% for 16 writers\n",
      "23/03/12 09:42:35 WARN MemoryManager: Total allocation exceeds 95,00% (1.020.054.720 bytes) of heap memory\n",
      "Scaling row group sizes to 50,67% for 15 writers\n",
      "23/03/12 09:42:35 WARN MemoryManager: Total allocation exceeds 95,00% (1.020.054.720 bytes) of heap memory\n",
      "Scaling row group sizes to 54,29% for 14 writers\n",
      "23/03/12 09:42:35 WARN MemoryManager: Total allocation exceeds 95,00% (1.020.054.720 bytes) of heap memory\n",
      "Scaling row group sizes to 58,46% for 13 writers\n",
      "23/03/12 09:42:35 WARN MemoryManager: Total allocation exceeds 95,00% (1.020.054.720 bytes) of heap memory\n",
      "Scaling row group sizes to 63,33% for 12 writers\n",
      "23/03/12 09:42:35 WARN MemoryManager: Total allocation exceeds 95,00% (1.020.054.720 bytes) of heap memory\n",
      "Scaling row group sizes to 69,09% for 11 writers\n",
      "23/03/12 09:42:35 WARN MemoryManager: Total allocation exceeds 95,00% (1.020.054.720 bytes) of heap memory\n",
      "Scaling row group sizes to 76,00% for 10 writers\n",
      "23/03/12 09:42:35 WARN MemoryManager: Total allocation exceeds 95,00% (1.020.054.720 bytes) of heap memory\n",
      "Scaling row group sizes to 84,44% for 9 writers\n",
      "23/03/12 09:42:35 WARN MemoryManager: Total allocation exceeds 95,00% (1.020.054.720 bytes) of heap memory\n",
      "Scaling row group sizes to 95,00% for 8 writers\n",
      "                                                                                \r"
     ]
    }
   ],
   "source": [
    "df_result.write.parquet('tmp/green-revenue', mode='overwrite')"
   ]
  },
  {
   "cell_type": "code",
   "execution_count": null,
   "id": "1af684a6",
   "metadata": {},
   "outputs": [],
   "source": []
  }
 ],
 "metadata": {
  "kernelspec": {
   "display_name": "Python 3 (ipykernel)",
   "language": "python",
   "name": "python3"
  },
  "language_info": {
   "codemirror_mode": {
    "name": "ipython",
    "version": 3
   },
   "file_extension": ".py",
   "mimetype": "text/x-python",
   "name": "python",
   "nbconvert_exporter": "python",
   "pygments_lexer": "ipython3",
   "version": "3.9.16"
  }
 },
 "nbformat": 4,
 "nbformat_minor": 5
}
